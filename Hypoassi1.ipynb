{
  "nbformat": 4,
  "nbformat_minor": 0,
  "metadata": {
    "colab": {
      "name": "Hypoassi1.ipynb",
      "provenance": [],
      "authorship_tag": "ABX9TyP6mGQmyG3dAu42K/psXk4n",
      "include_colab_link": true
    },
    "kernelspec": {
      "name": "python3",
      "display_name": "Python 3"
    },
    "language_info": {
      "name": "python"
    }
  },
  "cells": [
    {
      "cell_type": "markdown",
      "metadata": {
        "id": "view-in-github",
        "colab_type": "text"
      },
      "source": [
        "<a href=\"https://colab.research.google.com/github/Aashrit77/Assignments/blob/main/Hypoassi1.ipynb\" target=\"_parent\"><img src=\"https://colab.research.google.com/assets/colab-badge.svg\" alt=\"Open In Colab\"/></a>"
      ]
    },
    {
      "cell_type": "code",
      "metadata": {
        "id": "ote5cE-mHt6l"
      },
      "source": [
        "import pandas as pd\n",
        "import scipy\n",
        "from scipy import stats"
      ],
      "execution_count": null,
      "outputs": []
    },
    {
      "cell_type": "code",
      "metadata": {
        "id": "qFyhG8mTIYWt"
      },
      "source": [
        "cut = pd.read_csv(\"/content/Cutlets.csv\")\n",
        "cut.head()"
      ],
      "execution_count": null,
      "outputs": []
    },
    {
      "cell_type": "code",
      "metadata": {
        "id": "P8ulMnWBIh9V"
      },
      "source": [
        "unitA = pd.Series(cut.iloc[:,0])\n",
        "unitA"
      ],
      "execution_count": null,
      "outputs": []
    },
    {
      "cell_type": "code",
      "metadata": {
        "id": "5PAdNeiXJQ2w"
      },
      "source": [
        "unitB = pd.Series(cut.iloc[:,1])\n",
        "unitB"
      ],
      "execution_count": null,
      "outputs": []
    },
    {
      "cell_type": "markdown",
      "metadata": {
        "id": "EMzOrEctllmg"
      },
      "source": [
        "#Lets say null hypothesis is H0 = unitA = unitB\n",
        "#And alternativ hypothesis is Ha = UnitA <> unitB"
      ]
    },
    {
      "cell_type": "code",
      "metadata": {
        "colab": {
          "base_uri": "https://localhost:8080/"
        },
        "id": "xlWjyFFblYm6",
        "outputId": "8bd12214-f575-465b-c948-f8edf8a5cefc"
      },
      "source": [
        "scipy.stats.ttest_ind(unitA,unitB)[1]"
      ],
      "execution_count": 14,
      "outputs": [
        {
          "output_type": "execute_result",
          "data": {
            "text/plain": [
              "0.4722394724599501"
            ]
          },
          "metadata": {},
          "execution_count": 14
        }
      ]
    },
    {
      "cell_type": "markdown",
      "metadata": {
        "id": "gl6749afmDg2"
      },
      "source": [
        "#P-value is greater than the significance level of 0.05 hence accept the null hypothesis."
      ]
    },
    {
      "cell_type": "code",
      "metadata": {
        "id": "0_a02-S1l9jz"
      },
      "source": [
        ""
      ],
      "execution_count": null,
      "outputs": []
    }
  ]
}