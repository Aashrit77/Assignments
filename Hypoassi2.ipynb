{
  "nbformat": 4,
  "nbformat_minor": 0,
  "metadata": {
    "colab": {
      "name": "Hypoassi2.ipynb",
      "provenance": [],
      "authorship_tag": "ABX9TyPBwTpZRreKhy/MXtbUvFUh",
      "include_colab_link": true
    },
    "kernelspec": {
      "name": "python3",
      "display_name": "Python 3"
    },
    "language_info": {
      "name": "python"
    }
  },
  "cells": [
    {
      "cell_type": "markdown",
      "metadata": {
        "id": "view-in-github",
        "colab_type": "text"
      },
      "source": [
        "<a href=\"https://colab.research.google.com/github/Aashrit77/Assignments/blob/main/Hypoassi2.ipynb\" target=\"_parent\"><img src=\"https://colab.research.google.com/assets/colab-badge.svg\" alt=\"Open In Colab\"/></a>"
      ]
    },
    {
      "cell_type": "code",
      "metadata": {
        "id": "eZq_sAKpo-yE"
      },
      "source": [
        "import pandas as pd\n",
        "import numpy as np\n",
        "from scipy import stats\n",
        "from scipy.stats import norm"
      ],
      "execution_count": null,
      "outputs": []
    },
    {
      "cell_type": "code",
      "metadata": {
        "id": "-tCdbmrzpSZG"
      },
      "source": [
        "lab = pd.read_csv(\"/content/LabTAT.csv\")\n",
        "lab.head()"
      ],
      "execution_count": null,
      "outputs": []
    },
    {
      "cell_type": "markdown",
      "metadata": {
        "id": "UD2K71tXqCGf"
      },
      "source": [
        "#Null Hypothesis Ho = q1=q2=q3=q4\n",
        "#Alternative Hypothesis Ha = Atlest on is different"
      ]
    },
    {
      "cell_type": "markdown",
      "metadata": {
        "id": "ISwGytVlplMM"
      },
      "source": [
        "#We have to use ANOVA test as there are more than 2 quantities"
      ]
    },
    {
      "cell_type": "code",
      "metadata": {
        "colab": {
          "base_uri": "https://localhost:8080/"
        },
        "id": "OPwUQpK2pbd3",
        "outputId": "97efa4c9-dbeb-458e-f793-42c9c3835203"
      },
      "source": [
        "stats.f_oneway(lab.iloc[:,0],lab.iloc[:,1],lab.iloc[:,2],lab.iloc[:,3])"
      ],
      "execution_count": 4,
      "outputs": [
        {
          "output_type": "execute_result",
          "data": {
            "text/plain": [
              "F_onewayResult(statistic=118.70421654401437, pvalue=2.1156708949992414e-57)"
            ]
          },
          "metadata": {},
          "execution_count": 4
        }
      ]
    },
    {
      "cell_type": "markdown",
      "metadata": {
        "id": "om3J6a2bqT9L"
      },
      "source": [
        "#as P-Value is less than 0.05 reject null hypothsis\n",
        "#therefore there is a difference"
      ]
    },
    {
      "cell_type": "code",
      "metadata": {
        "id": "sQxsXnC_p-hL"
      },
      "source": [
        ""
      ],
      "execution_count": null,
      "outputs": []
    }
  ]
}