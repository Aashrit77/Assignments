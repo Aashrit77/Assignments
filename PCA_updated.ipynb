{
  "nbformat": 4,
  "nbformat_minor": 0,
  "metadata": {
    "colab": {
      "name": "PCA_updated.ipynb",
      "provenance": [],
      "authorship_tag": "ABX9TyMxrg5uEEPbm1l/0uI8VY7/",
      "include_colab_link": true
    },
    "kernelspec": {
      "name": "python3",
      "display_name": "Python 3"
    },
    "language_info": {
      "name": "python"
    }
  },
  "cells": [
    {
      "cell_type": "markdown",
      "metadata": {
        "id": "view-in-github",
        "colab_type": "text"
      },
      "source": [
        "<a href=\"https://colab.research.google.com/github/Aashrit77/Assignments/blob/main/PCA_updated.ipynb\" target=\"_parent\"><img src=\"https://colab.research.google.com/assets/colab-badge.svg\" alt=\"Open In Colab\"/></a>"
      ]
    },
    {
      "cell_type": "code",
      "metadata": {
        "id": "FtaPIe3KdxIQ"
      },
      "source": [
        "import pandas as pd\n",
        "import numpy as np\n",
        "import matplotlib.pyplot as plt\n",
        "from sklearn.decomposition import PCA\n",
        "from sklearn.preprocessing import scale"
      ],
      "execution_count": 1,
      "outputs": []
    },
    {
      "cell_type": "code",
      "metadata": {
        "colab": {
          "base_uri": "https://localhost:8080/",
          "height": 206
        },
        "id": "4va5lao6fkdt",
        "outputId": "b92aed34-84a1-4b48-e183-8a0e135e7f7e"
      },
      "source": [
        "wine = pd.read_csv(\"/content/wine.csv\")\n",
        "wine.head()"
      ],
      "execution_count": 2,
      "outputs": [
        {
          "output_type": "execute_result",
          "data": {
            "text/html": [
              "<div>\n",
              "<style scoped>\n",
              "    .dataframe tbody tr th:only-of-type {\n",
              "        vertical-align: middle;\n",
              "    }\n",
              "\n",
              "    .dataframe tbody tr th {\n",
              "        vertical-align: top;\n",
              "    }\n",
              "\n",
              "    .dataframe thead th {\n",
              "        text-align: right;\n",
              "    }\n",
              "</style>\n",
              "<table border=\"1\" class=\"dataframe\">\n",
              "  <thead>\n",
              "    <tr style=\"text-align: right;\">\n",
              "      <th></th>\n",
              "      <th>Type</th>\n",
              "      <th>Alcohol</th>\n",
              "      <th>Malic</th>\n",
              "      <th>Ash</th>\n",
              "      <th>Alcalinity</th>\n",
              "      <th>Magnesium</th>\n",
              "      <th>Phenols</th>\n",
              "      <th>Flavanoids</th>\n",
              "      <th>Nonflavanoids</th>\n",
              "      <th>Proanthocyanins</th>\n",
              "      <th>Color</th>\n",
              "      <th>Hue</th>\n",
              "      <th>Dilution</th>\n",
              "      <th>Proline</th>\n",
              "    </tr>\n",
              "  </thead>\n",
              "  <tbody>\n",
              "    <tr>\n",
              "      <th>0</th>\n",
              "      <td>1</td>\n",
              "      <td>14.23</td>\n",
              "      <td>1.71</td>\n",
              "      <td>2.43</td>\n",
              "      <td>15.6</td>\n",
              "      <td>127</td>\n",
              "      <td>2.80</td>\n",
              "      <td>3.06</td>\n",
              "      <td>0.28</td>\n",
              "      <td>2.29</td>\n",
              "      <td>5.64</td>\n",
              "      <td>1.04</td>\n",
              "      <td>3.92</td>\n",
              "      <td>1065</td>\n",
              "    </tr>\n",
              "    <tr>\n",
              "      <th>1</th>\n",
              "      <td>1</td>\n",
              "      <td>13.20</td>\n",
              "      <td>1.78</td>\n",
              "      <td>2.14</td>\n",
              "      <td>11.2</td>\n",
              "      <td>100</td>\n",
              "      <td>2.65</td>\n",
              "      <td>2.76</td>\n",
              "      <td>0.26</td>\n",
              "      <td>1.28</td>\n",
              "      <td>4.38</td>\n",
              "      <td>1.05</td>\n",
              "      <td>3.40</td>\n",
              "      <td>1050</td>\n",
              "    </tr>\n",
              "    <tr>\n",
              "      <th>2</th>\n",
              "      <td>1</td>\n",
              "      <td>13.16</td>\n",
              "      <td>2.36</td>\n",
              "      <td>2.67</td>\n",
              "      <td>18.6</td>\n",
              "      <td>101</td>\n",
              "      <td>2.80</td>\n",
              "      <td>3.24</td>\n",
              "      <td>0.30</td>\n",
              "      <td>2.81</td>\n",
              "      <td>5.68</td>\n",
              "      <td>1.03</td>\n",
              "      <td>3.17</td>\n",
              "      <td>1185</td>\n",
              "    </tr>\n",
              "    <tr>\n",
              "      <th>3</th>\n",
              "      <td>1</td>\n",
              "      <td>14.37</td>\n",
              "      <td>1.95</td>\n",
              "      <td>2.50</td>\n",
              "      <td>16.8</td>\n",
              "      <td>113</td>\n",
              "      <td>3.85</td>\n",
              "      <td>3.49</td>\n",
              "      <td>0.24</td>\n",
              "      <td>2.18</td>\n",
              "      <td>7.80</td>\n",
              "      <td>0.86</td>\n",
              "      <td>3.45</td>\n",
              "      <td>1480</td>\n",
              "    </tr>\n",
              "    <tr>\n",
              "      <th>4</th>\n",
              "      <td>1</td>\n",
              "      <td>13.24</td>\n",
              "      <td>2.59</td>\n",
              "      <td>2.87</td>\n",
              "      <td>21.0</td>\n",
              "      <td>118</td>\n",
              "      <td>2.80</td>\n",
              "      <td>2.69</td>\n",
              "      <td>0.39</td>\n",
              "      <td>1.82</td>\n",
              "      <td>4.32</td>\n",
              "      <td>1.04</td>\n",
              "      <td>2.93</td>\n",
              "      <td>735</td>\n",
              "    </tr>\n",
              "  </tbody>\n",
              "</table>\n",
              "</div>"
            ],
            "text/plain": [
              "   Type  Alcohol  Malic   Ash  ...  Color   Hue  Dilution  Proline\n",
              "0     1    14.23   1.71  2.43  ...   5.64  1.04      3.92     1065\n",
              "1     1    13.20   1.78  2.14  ...   4.38  1.05      3.40     1050\n",
              "2     1    13.16   2.36  2.67  ...   5.68  1.03      3.17     1185\n",
              "3     1    14.37   1.95  2.50  ...   7.80  0.86      3.45     1480\n",
              "4     1    13.24   2.59  2.87  ...   4.32  1.04      2.93      735\n",
              "\n",
              "[5 rows x 14 columns]"
            ]
          },
          "metadata": {},
          "execution_count": 2
        }
      ]
    },
    {
      "cell_type": "code",
      "metadata": {
        "id": "K8ozfctefsPU"
      },
      "source": [
        "WINE = wine.values"
      ],
      "execution_count": 3,
      "outputs": []
    },
    {
      "cell_type": "code",
      "metadata": {
        "colab": {
          "base_uri": "https://localhost:8080/"
        },
        "id": "QPZh8R9ef4vw",
        "outputId": "607f6150-799f-43f4-f66f-4f6709a28433"
      },
      "source": [
        "WINE"
      ],
      "execution_count": 4,
      "outputs": [
        {
          "output_type": "execute_result",
          "data": {
            "text/plain": [
              "array([[1.000e+00, 1.423e+01, 1.710e+00, ..., 1.040e+00, 3.920e+00,\n",
              "        1.065e+03],\n",
              "       [1.000e+00, 1.320e+01, 1.780e+00, ..., 1.050e+00, 3.400e+00,\n",
              "        1.050e+03],\n",
              "       [1.000e+00, 1.316e+01, 2.360e+00, ..., 1.030e+00, 3.170e+00,\n",
              "        1.185e+03],\n",
              "       ...,\n",
              "       [3.000e+00, 1.327e+01, 4.280e+00, ..., 5.900e-01, 1.560e+00,\n",
              "        8.350e+02],\n",
              "       [3.000e+00, 1.317e+01, 2.590e+00, ..., 6.000e-01, 1.620e+00,\n",
              "        8.400e+02],\n",
              "       [3.000e+00, 1.413e+01, 4.100e+00, ..., 6.100e-01, 1.600e+00,\n",
              "        5.600e+02]])"
            ]
          },
          "metadata": {},
          "execution_count": 4
        }
      ]
    },
    {
      "cell_type": "code",
      "metadata": {
        "colab": {
          "base_uri": "https://localhost:8080/"
        },
        "id": "F8WU8d4_gDKX",
        "outputId": "33de9c80-7939-4ff3-de4a-99b869a591ab"
      },
      "source": [
        "wine_normal = scale(WINE)\n",
        "wine_normal"
      ],
      "execution_count": 5,
      "outputs": [
        {
          "output_type": "execute_result",
          "data": {
            "text/plain": [
              "array([[-1.21394365,  1.51861254, -0.5622498 , ...,  0.36217728,\n",
              "         1.84791957,  1.01300893],\n",
              "       [-1.21394365,  0.24628963, -0.49941338, ...,  0.40605066,\n",
              "         1.1134493 ,  0.96524152],\n",
              "       [-1.21394365,  0.19687903,  0.02123125, ...,  0.31830389,\n",
              "         0.78858745,  1.39514818],\n",
              "       ...,\n",
              "       [ 1.37386437,  0.33275817,  1.74474449, ..., -1.61212515,\n",
              "        -1.48544548,  0.28057537],\n",
              "       [ 1.37386437,  0.20923168,  0.22769377, ..., -1.56825176,\n",
              "        -1.40069891,  0.29649784],\n",
              "       [ 1.37386437,  1.39508604,  1.58316512, ..., -1.52437837,\n",
              "        -1.42894777, -0.59516041]])"
            ]
          },
          "metadata": {},
          "execution_count": 5
        }
      ]
    },
    {
      "cell_type": "code",
      "metadata": {
        "id": "efQa0U6GgP2L"
      },
      "source": [
        "pca = PCA()\n",
        "pca_values = pca.fit_transform(wine_normal)"
      ],
      "execution_count": 6,
      "outputs": []
    },
    {
      "cell_type": "code",
      "metadata": {
        "colab": {
          "base_uri": "https://localhost:8080/"
        },
        "id": "15vSfU3LgXdn",
        "outputId": "2727d65b-5960-49a6-f0f9-64a8c7030a2f"
      },
      "source": [
        "pca_values"
      ],
      "execution_count": 7,
      "outputs": [
        {
          "output_type": "execute_result",
          "data": {
            "text/plain": [
              "array([[-3.52293390e+00, -1.45309844e+00, -1.64795488e-01, ...,\n",
              "         5.52927766e-01, -3.02978176e-01,  2.00857450e-01],\n",
              "       [-2.52885806e+00,  3.30019252e-01, -2.02670665e+00, ...,\n",
              "         3.94971160e-01, -1.46645308e-01,  1.26402355e-01],\n",
              "       [-2.78502898e+00, -1.03693595e+00,  9.83237703e-01, ...,\n",
              "         1.89799314e-03,  2.12780166e-02, -5.57515155e-02],\n",
              "       ...,\n",
              "       [ 3.02727243e+00, -2.75604024e+00, -9.40803036e-01, ...,\n",
              "         6.93336340e-01,  1.67035660e-01, -3.16957430e-02],\n",
              "       [ 2.75522166e+00, -2.29378408e+00, -5.50473677e-01, ...,\n",
              "         3.44119826e-01, -1.09514873e-01,  1.02823104e-01],\n",
              "       [ 3.49633565e+00, -2.76060799e+00,  1.01315115e+00, ...,\n",
              "        -1.89866131e-01, -1.64090011e-01, -2.64916504e-01]])"
            ]
          },
          "metadata": {},
          "execution_count": 7
        }
      ]
    },
    {
      "cell_type": "code",
      "metadata": {
        "colab": {
          "base_uri": "https://localhost:8080/"
        },
        "id": "jFyhPj9mgZeq",
        "outputId": "7b6229c2-6898-4910-cec2-5d2f23b320d1"
      },
      "source": [
        "var = pca.explained_variance_ratio_\n",
        "var"
      ],
      "execution_count": 8,
      "outputs": [
        {
          "output_type": "execute_result",
          "data": {
            "text/plain": [
              "array([0.39542486, 0.17836259, 0.10329102, 0.06627984, 0.06267875,\n",
              "       0.0480556 , 0.03955707, 0.02500244, 0.02103871, 0.01873615,\n",
              "       0.01613203, 0.01205691, 0.00925458, 0.00412945])"
            ]
          },
          "metadata": {},
          "execution_count": 8
        }
      ]
    },
    {
      "cell_type": "code",
      "metadata": {
        "colab": {
          "base_uri": "https://localhost:8080/"
        },
        "id": "b5_cQtZCgj9O",
        "outputId": "43cb0fe8-bef5-42ad-a386-b8ae30f0a422"
      },
      "source": [
        "var1 = np.cumsum(np.round(var,4)*100)\n",
        "var1"
      ],
      "execution_count": 9,
      "outputs": [
        {
          "output_type": "execute_result",
          "data": {
            "text/plain": [
              "array([ 39.54,  57.38,  67.71,  74.34,  80.61,  85.42,  89.38,  91.88,\n",
              "        93.98,  95.85,  97.46,  98.67,  99.6 , 100.01])"
            ]
          },
          "metadata": {},
          "execution_count": 9
        }
      ]
    },
    {
      "cell_type": "code",
      "metadata": {
        "colab": {
          "base_uri": "https://localhost:8080/"
        },
        "id": "aziIHnsrgpVl",
        "outputId": "a6e3ccff-3b7c-4fb1-bc09-cd6e1540fde2"
      },
      "source": [
        "pca.components_"
      ],
      "execution_count": 10,
      "outputs": [
        {
          "output_type": "execute_result",
          "data": {
            "text/plain": [
              "array([[ 0.39366953, -0.13632501,  0.22267638, -0.00225793,  0.22429849,\n",
              "        -0.12463016, -0.35926404, -0.39071171,  0.2670012 , -0.2790625 ,\n",
              "         0.08931829, -0.27682265, -0.35052618, -0.26951525],\n",
              "       [-0.00569041, -0.48416087, -0.22359095, -0.31585588,  0.01161574,\n",
              "        -0.30055143, -0.06711983,  0.00131345, -0.0269887 , -0.04122256,\n",
              "        -0.52978274,  0.27790735,  0.16277625, -0.36605886],\n",
              "       [ 0.00121795, -0.20740081,  0.08879606,  0.62610236,  0.6119896 ,\n",
              "         0.13098458,  0.14650775,  0.15096275,  0.16997551,  0.14987959,\n",
              "        -0.1372663 ,  0.08532854,  0.16620436, -0.12668685],\n",
              "       [ 0.12246373, -0.08191848,  0.46988824, -0.24984122,  0.07199322,\n",
              "        -0.16321412,  0.19098521,  0.14461667, -0.32801272,  0.46275771,\n",
              "         0.07211248, -0.43466618,  0.15672341, -0.2557949 ],\n",
              "       [ 0.15758395, -0.25089415, -0.18860015, -0.0935236 ,  0.0465675 ,\n",
              "         0.77833048, -0.14466563, -0.11200553, -0.43257916,  0.0915882 ,\n",
              "        -0.0462696 , -0.02986657, -0.14419358, -0.08440794],\n",
              "       [ 0.20033864, -0.13517139, -0.59841948, -0.10799983,  0.08811224,\n",
              "        -0.14483831,  0.14809748,  0.06247252,  0.25868639,  0.46627764,\n",
              "         0.42525454, -0.01565089, -0.21770365, -0.0665655 ],\n",
              "       [-0.05938234, -0.09269887,  0.3743698 , -0.16708856, -0.26872469,\n",
              "         0.32957951, -0.03789829, -0.06773223,  0.61111195,  0.42292282,\n",
              "        -0.18613617,  0.19204101, -0.0785098 ,  0.0542037 ],\n",
              "       [-0.07179553, -0.42154435, -0.08757556,  0.17208034, -0.41324857,\n",
              "         0.14881189,  0.36343884,  0.175405  ,  0.23075135, -0.3437392 ,\n",
              "         0.04069617, -0.48362564,  0.06865116, -0.11146671],\n",
              "       [-0.16236882, -0.45019071, -0.00602569,  0.26249446, -0.11863342,\n",
              "        -0.25253628, -0.40637354, -0.09091933, -0.15912282,  0.26578679,\n",
              "        -0.07526459, -0.21241681, -0.08426484,  0.54490539],\n",
              "       [-0.19899373,  0.31127983, -0.32592413, -0.12452347,  0.15716811,\n",
              "         0.12773363, -0.30772263, -0.14044   ,  0.24054263,  0.10869629,\n",
              "        -0.21704255, -0.50966073,  0.45570504, -0.04620802],\n",
              "       [ 0.01444169, -0.22154641,  0.06839251, -0.49452428,  0.47461722,\n",
              "         0.07119731,  0.29740957, -0.03219187,  0.12200984, -0.23292405,\n",
              "         0.01972448, -0.06140493,  0.06646166,  0.55130818],\n",
              "       [ 0.01575769, -0.26411262,  0.1192121 , -0.04502305, -0.06131271,\n",
              "         0.06116074, -0.30087591, -0.05001396,  0.04266558, -0.09334264,\n",
              "         0.59795428,  0.25774292,  0.61109218, -0.07268036],\n",
              "       [-0.49224318, -0.05610645,  0.06675544, -0.19201787,  0.20007784,\n",
              "         0.05829909, -0.35952714,  0.59834288,  0.06403952, -0.11013538,\n",
              "         0.15917751, -0.04923091, -0.32941979, -0.17322892],\n",
              "       [ 0.66904528,  0.09062605, -0.02522531, -0.00163582, -0.09536107,\n",
              "         0.02230075, -0.25303779,  0.60190917,  0.08223093, -0.05864198,\n",
              "        -0.17882114, -0.02258256,  0.13509216,  0.21604362]])"
            ]
          },
          "metadata": {},
          "execution_count": 10
        }
      ]
    },
    {
      "cell_type": "code",
      "metadata": {
        "colab": {
          "base_uri": "https://localhost:8080/",
          "height": 265
        },
        "id": "9stbQx_vgvVn",
        "outputId": "6c552fd6-cb99-4656-8311-918ac99faa51"
      },
      "source": [
        "plt.plot(var1 ,color=\"red\")\n",
        "plt.show()"
      ],
      "execution_count": 11,
      "outputs": [
        {
          "output_type": "display_data",
          "data": {
            "image/png": "[encoded data removed]",
            "text/plain": [
              "<Figure size 432x288 with 1 Axes>"
            ]
          },
          "metadata": {
            "needs_background": "light"
          }
        }
      ]
    },
    {
      "cell_type": "code",
      "metadata": {
        "colab": {
          "base_uri": "https://localhost:8080/",
          "height": 282
        },
        "id": "h9k_OYSqgzfa",
        "outputId": "d157c8cf-97f2-4a59-97d5-2c8b8e442e71"
      },
      "source": [
        "x = pca_values[:,0:1]\n",
        "y = pca_values[:,1:2]\n",
        "plt.scatter(x,y)"
      ],
      "execution_count": 12,
      "outputs": [
        {
          "output_type": "execute_result",
          "data": {
            "text/plain": [
              "<matplotlib.collections.PathCollection at 0x7f811a18ac10>"
            ]
          },
          "metadata": {},
          "execution_count": 12
        },
        {
          "output_type": "display_data",
          "data": {
            "image/png": "[encoded data removed]",
            "text/plain": [
              "<Figure size 432x288 with 1 Axes>"
            ]
          },
          "metadata": {
            "needs_background": "light"
          }
        }
      ]
    },
    {
      "cell_type": "code",
      "metadata": {
        "colab": {
          "base_uri": "https://localhost:8080/"
        },
        "id": "e3MMHbQKiwjf",
        "outputId": "8789ca96-813d-41d8-e967-4dc73187f0cb"
      },
      "source": [
        "pca = PCA(n_components=3)\n",
        "pca_values = pca.fit_transform(wine_normal)\n",
        "pca_values"
      ],
      "execution_count": 13,
      "outputs": [
        {
          "output_type": "execute_result",
          "data": {
            "text/plain": [
              "array([[-3.52293390e+00, -1.45309844e+00, -1.64795488e-01],\n",
              "       [-2.52885806e+00,  3.30019252e-01, -2.02670665e+00],\n",
              "       [-2.78502898e+00, -1.03693595e+00,  9.83237703e-01],\n",
              "       [-3.92258841e+00, -2.76821026e+00, -1.74968168e-01],\n",
              "       [-1.40751111e+00, -8.67773087e-01,  2.02582949e+00],\n",
              "       [-3.28812981e+00, -2.13017513e+00, -6.28992339e-01],\n",
              "       [-2.75057754e+00, -1.17916999e+00, -9.77337471e-01],\n",
              "       [-2.39286652e+00, -1.61128232e+00,  1.45729462e-01],\n",
              "       [-2.79525633e+00, -9.23179517e-01, -1.77092548e+00],\n",
              "       [-3.00559666e+00, -7.96284169e-01, -9.83741629e-01],\n",
              "       [-3.67868855e+00, -1.31252342e+00, -4.21854170e-01],\n",
              "       [-2.10963477e+00, -6.12981986e-01, -1.19156995e+00],\n",
              "       [-2.43845636e+00, -6.78523310e-01, -8.65513701e-01],\n",
              "       [-3.67349453e+00, -1.14012136e+00, -1.20376870e+00],\n",
              "       [-4.44157575e+00, -2.11031917e+00, -1.26245041e+00],\n",
              "       [-2.60892387e+00, -1.66641801e+00,  2.17632760e-01],\n",
              "       [-2.47542846e+00, -2.33089672e+00,  8.31602071e-01],\n",
              "       [-2.22623243e+00, -1.63359016e+00,  7.94557947e-01],\n",
              "       [-3.74226929e+00, -2.52840527e+00, -4.84832351e-01],\n",
              "       [-2.39441150e+00, -1.06452946e+00, -1.64711761e-01],\n",
              "       [-3.33656895e+00, -7.96012794e-01, -3.63852323e-01],\n",
              "       [-1.48140399e+00, -2.40085474e-01,  9.36230971e-01],\n",
              "       [-2.82806867e+00,  8.68575524e-02, -3.11966722e-01],\n",
              "       [-2.00771405e+00,  5.15616487e-01,  1.43253973e-01],\n",
              "       [-2.11463604e+00,  3.15920569e-01,  8.89723442e-01],\n",
              "       [-1.39753751e+00, -9.38215285e-01,  3.81984245e+00],\n",
              "       [-2.13348803e+00, -6.87102046e-01, -8.74580629e-02],\n",
              "       [-1.62970383e+00,  9.11840303e-02, -1.38781727e+00],\n",
              "       [-2.50760753e+00, -6.92749833e-01,  1.39417153e+00],\n",
              "       [-2.55948318e+00, -1.95472900e-01, -1.09267935e+00],\n",
              "       [-2.77244452e+00, -1.24635279e+00,  1.38625548e+00],\n",
              "       [-2.93513374e+00, -1.47827883e+00, -3.31852675e-01],\n",
              "       [-1.99124842e+00, -5.32520145e-02, -1.67814766e-01],\n",
              "       [-2.24570987e+00, -1.63466910e+00,  1.17138376e+00],\n",
              "       [-1.78698628e+00, -6.97480386e-01,  4.78958711e-01],\n",
              "       [-2.22763867e+00, -1.79288919e-01,  4.50723842e-01],\n",
              "       [-1.76802847e+00, -6.57872308e-01,  4.57519616e-01],\n",
              "       [-1.52317798e+00, -1.12225053e-01, -4.01116946e-02],\n",
              "       [-1.87236494e+00,  7.69305759e-01, -1.42681925e+00],\n",
              "       [-2.79711434e+00, -1.80880887e+00, -3.42657071e-01],\n",
              "       [-2.84093569e+00, -7.86161567e-01, -1.17781870e-01],\n",
              "       [-1.10557210e+00, -1.65884925e-01, -7.84568985e-01],\n",
              "       [-3.30689482e+00, -1.16395547e+00, -3.12199951e-01],\n",
              "       [-9.04798423e-01, -3.26072432e-01, -2.02584244e-01],\n",
              "       [-2.39683569e+00,  6.69059447e-02, -6.55487425e-01],\n",
              "       [-1.53781235e+00, -1.77507765e+00,  2.76685888e-02],\n",
              "       [-2.99121644e+00, -1.19762255e+00, -5.39465841e-01],\n",
              "       [-3.05931631e+00, -6.53821958e-01, -1.15475795e+00],\n",
              "       [-2.31877146e+00, -1.25023668e+00, -5.72980142e-02],\n",
              "       [-2.95947229e+00, -1.75860365e+00, -6.42655624e-01],\n",
              "       [-3.41218130e+00, -1.76915806e-01, -1.97228204e+00],\n",
              "       [-3.11637827e+00, -7.52108734e-01,  4.99813751e-03],\n",
              "       [-3.70021113e+00, -1.62309187e+00, -5.19868451e-01],\n",
              "       [-2.53754828e+00, -1.87852793e+00,  3.39182163e-01],\n",
              "       [-2.44478924e+00, -1.02071516e+00, -9.57570940e-01],\n",
              "       [-2.72281451e+00, -1.33524369e+00,  5.14188852e-01],\n",
              "       [-2.98531677e+00, -1.44363759e+00, -6.11793476e-01],\n",
              "       [-2.48814690e+00, -1.21549250e+00,  2.61493332e-01],\n",
              "       [-3.35128665e+00, -1.74060283e+00, -2.84735130e-01],\n",
              "       [ 8.74925041e-01,  3.07772383e+00, -4.58564619e+00],\n",
              "       [ 1.41466076e+00,  1.38995420e+00, -8.76470824e-01],\n",
              "       [ 1.71387916e+00,  8.38856075e-01, -1.60707177e+00],\n",
              "       [-1.22968607e-02,  1.26269589e+00, -1.78460521e+00],\n",
              "       [-1.83310122e+00,  1.91338608e+00, -5.30878166e-03],\n",
              "       [ 5.74535949e-01,  1.91115097e+00,  6.78679017e-01],\n",
              "       [-7.91471156e-01,  7.58725519e-01,  5.74195746e-01],\n",
              "       [-2.02003148e+00,  1.87213142e+00, -2.02970053e+00],\n",
              "       [-1.43280980e-01,  2.42575691e+00, -1.06951469e+00],\n",
              "       [ 7.51507665e-01,  2.25209017e-01, -7.08153727e-01],\n",
              "       [-1.74032573e+00,  1.39100815e+00, -1.23560112e+00],\n",
              "       [ 1.47630041e+00,  8.92248586e-01, -6.29942735e-01],\n",
              "       [-1.49197779e+00,  9.47927081e-01,  1.95383697e+00],\n",
              "       [ 6.93966859e-01,  1.06686332e+00,  7.98642383e-02],\n",
              "       [-2.29945716e+00, -2.74358507e-01,  3.37681721e+00],\n",
              "       [-1.63413138e+00,  1.27738980e+00,  4.60188129e-01],\n",
              "       [ 8.28999321e-01,  2.44770579e+00, -1.56370418e+00],\n",
              "       [-3.00431755e-01,  2.15106456e+00, -2.44873945e+00],\n",
              "       [ 1.36117820e+00,  1.39034627e+00, -2.28302697e-01],\n",
              "       [-1.09604852e+00,  7.62642821e-01, -1.18237277e+00],\n",
              "       [-3.19219739e-01,  1.02477043e+00,  1.79482091e+00],\n",
              "       [-6.71257572e-01,  3.37052496e+00, -3.56702471e-01],\n",
              "       [-9.24110908e-01,  1.44510662e+00, -3.62167941e-01],\n",
              "       [ 4.67492044e-01,  2.38376557e+00,  1.33514108e+00],\n",
              "       [ 2.35241675e+00,  1.00139963e-01,  4.72254334e-01],\n",
              "       [-7.18223250e-01,  1.46811394e+00,  6.11344419e-01],\n",
              "       [-6.98296042e-01,  2.02223417e+00, -2.54062359e-01],\n",
              "       [ 7.64574393e-01,  2.23750414e+00,  7.72269731e-01],\n",
              "       [ 5.28249229e-01,  2.37569723e+00,  2.30704770e+00],\n",
              "       [ 1.03785507e+00,  1.80786799e+00,  9.58261132e-01],\n",
              "       [ 5.21424250e-01,  2.66038386e+00,  8.48509316e-01],\n",
              "       [ 1.25335859e+00,  2.12475639e+00, -4.88018728e-02],\n",
              "       [ 1.46070926e+00,  1.85969940e+00,  7.79936252e-01],\n",
              "       [ 1.79124629e+00,  1.56916323e+00, -9.08620809e-02],\n",
              "       [-6.53304282e-01,  2.30839297e+00,  1.15558436e-01],\n",
              "       [-8.36145100e-01,  2.21754888e+00,  1.43652590e-01],\n",
              "       [-2.26060732e+00, -1.84286370e-01,  7.91707831e-01],\n",
              "       [ 5.55472828e-01,  3.70127327e-01,  1.30923904e+00],\n",
              "       [-9.14996505e-01,  2.55963934e+00, -1.08537095e+00],\n",
              "       [-2.02098347e+00,  1.42022041e+00, -2.28051484e-01],\n",
              "       [-1.26542677e+00,  2.15848251e+00,  7.50129033e-01],\n",
              "       [-7.01432286e-01,  2.37221592e+00, -1.56724534e+00],\n",
              "       [ 5.30869785e-01,  2.29535505e+00, -1.49917094e+00],\n",
              "       [ 1.76156718e-01,  1.16479003e+00,  1.00376103e+00],\n",
              "       [ 6.42741969e-01,  2.68228953e+00, -7.65006369e-01],\n",
              "       [-3.37706143e-01,  2.09639668e+00, -4.71487650e-01],\n",
              "       [ 1.63721155e+00,  1.72636425e+00,  9.45499540e-01],\n",
              "       [ 3.58772642e-01,  2.17081862e+00, -4.81516548e-01],\n",
              "       [ 1.51311874e+00,  1.36335628e+00,  2.86009689e-01],\n",
              "       [-3.00962570e-02,  2.30450774e+00, -4.62917472e-01],\n",
              "       [-1.40940236e+00,  1.45311158e+00,  1.78122564e+00],\n",
              "       [-1.21824444e+00,  1.40819282e+00,  1.41869305e-01],\n",
              "       [ 2.88314619e-01,  1.93122641e+00,  7.87556331e-02],\n",
              "       [ 1.19609762e+00,  7.70442623e-01,  1.99805177e+00],\n",
              "       [ 4.51618189e-01,  2.27100706e+00,  1.06117891e+00],\n",
              "       [ 4.71838856e-01,  1.94138119e+00,  1.32347951e+00],\n",
              "       [-4.23399090e-01,  3.86899361e+00,  1.34460234e+00],\n",
              "       [ 2.64376527e-01,  2.82191608e+00, -3.02473757e-01],\n",
              "       [ 1.37458466e-01,  1.92845353e+00,  6.90492491e-01],\n",
              "       [ 2.25047663e+00,  1.26932529e+00, -1.90489729e+00],\n",
              "       [ 5.30744984e-01,  2.22441680e+00, -3.56421002e-01],\n",
              "       [-6.41287353e-01,  1.40431272e+00,  1.12630356e+00],\n",
              "       [-1.18436691e+00, -2.60957397e-01,  5.34669930e+00],\n",
              "       [ 1.10694195e+00,  6.69497002e-01,  3.00946264e+00],\n",
              "       [ 4.58647944e-01,  6.19888485e-01,  4.83469394e-01],\n",
              "       [-8.46107223e-01,  1.43910880e+00,  1.48276882e+00],\n",
              "       [ 1.16536718e-01,  2.10990355e+00,  4.34953692e-01],\n",
              "       [ 7.08670000e-03,  1.26551112e+00,  6.88045285e-01],\n",
              "       [ 1.49530863e+00,  1.21567945e+00,  3.36006477e+00],\n",
              "       [ 4.78601694e-01,  1.94027835e+00,  1.29653977e+00],\n",
              "       [ 1.66414462e+00,  1.15919147e+00,  7.81438229e-01],\n",
              "       [ 1.77894554e+00, -1.72314762e-01, -1.17886945e+00],\n",
              "       [ 2.74191892e+00, -3.70857245e-01, -7.23641101e-01],\n",
              "       [ 3.25429697e+00, -2.57563459e-01, -1.67783428e-01],\n",
              "       [ 2.53036635e+00, -3.65988657e-01, -4.52793591e-01],\n",
              "       [ 2.71302437e+00,  4.63874135e-01, -1.10162252e+00],\n",
              "       [ 3.34898858e+00, -3.45562159e-01, -1.09990369e+00],\n",
              "       [ 4.11716696e+00, -1.41973079e-01,  2.20219652e-01],\n",
              "       [ 4.14412844e+00, -6.47213236e-01,  1.71069802e+00],\n",
              "       [ 3.36592550e+00, -3.40410644e-01, -1.02784757e+00],\n",
              "       [ 2.71267678e+00, -2.87464382e-01,  1.24156157e+00],\n",
              "       [ 3.07164523e+00, -2.79805941e-01,  6.08807930e-01],\n",
              "       [ 2.62614546e+00, -3.68232871e-01, -9.71981338e-01],\n",
              "       [ 3.26039672e+00, -4.81090804e-01,  9.45869411e-01],\n",
              "       [ 2.70404699e+00, -4.77459848e-01, -2.53362189e-01],\n",
              "       [ 2.59084775e+00, -1.15749987e+00, -1.24462312e+00],\n",
              "       [ 2.95401110e+00, -5.57851499e-01, -8.56141264e-01],\n",
              "       [ 4.45995006e+00, -6.35479008e-01, -1.45991022e+00],\n",
              "       [ 3.82924957e+00, -1.26232962e+00, -1.11849762e-01],\n",
              "       [ 3.13365001e+00, -1.56464614e+00, -4.72735778e-01],\n",
              "       [ 3.23471410e+00, -2.03532443e+00, -4.95850787e-01],\n",
              "       [ 2.71256472e+00, -2.35387960e+00,  4.38394136e-01],\n",
              "       [ 2.93094044e+00, -2.04198353e+00, -3.11553350e-01],\n",
              "       [ 2.25057425e+00, -1.52795614e+00,  1.36375981e+00],\n",
              "       [ 3.09752033e+00, -2.13348176e+00, -9.64702506e-01],\n",
              "       [ 3.07705567e+00, -4.04790975e-01, -1.19032620e+00],\n",
              "       [ 3.85615824e+00, -1.79208943e+00, -9.50222792e-02],\n",
              "       [ 3.20838842e+00, -1.91882788e+00, -7.82626281e-01],\n",
              "       [ 3.65849417e+00, -1.30258082e+00,  1.60108960e+00],\n",
              "       [ 1.55298183e+00, -3.51909311e+00,  1.16159677e+00],\n",
              "       [ 2.05828389e+00, -2.40754610e+00,  5.49571767e-01],\n",
              "       [ 3.43854934e+00, -7.30543243e-01, -9.14691325e-02],\n",
              "       [ 2.58448815e+00, -1.17132839e+00, -1.01780000e-01],\n",
              "       [ 3.14445722e+00, -5.49035841e-01,  8.03473957e-01],\n",
              "       [ 2.92529398e+00, -6.92656844e-01, -8.85187512e-01],\n",
              "       [ 3.26182677e+00, -1.54859057e+00, -9.83800479e-01],\n",
              "       [ 3.77758717e+00, -8.72311546e-01, -4.67133500e-01],\n",
              "       [ 2.77463925e+00, -2.58870465e+00,  4.28405575e-01],\n",
              "       [ 3.24261618e+00, -1.26784789e+00, -1.21371523e+00],\n",
              "       [ 2.56374375e+00, -2.07490927e+00,  7.64076543e-01],\n",
              "       [ 2.74872948e+00, -2.58508204e+00,  1.41826706e+00],\n",
              "       [ 3.49119620e+00,  2.59460201e-01, -8.47741922e-01],\n",
              "       [ 3.92913440e+00, -8.37386028e-01, -1.34034780e+00],\n",
              "       [ 2.81529547e+00, -2.18933614e+00, -9.18927443e-01],\n",
              "       [ 3.62799620e+00, -2.20661701e+00, -3.43667668e-01],\n",
              "       [ 2.94272922e+00, -1.75226320e+00,  2.07479744e-01],\n",
              "       [ 3.02727243e+00, -2.75604024e+00, -9.40803036e-01],\n",
              "       [ 2.75522166e+00, -2.29378408e+00, -5.50473677e-01],\n",
              "       [ 3.49633565e+00, -2.76060799e+00,  1.01315115e+00]])"
            ]
          },
          "metadata": {},
          "execution_count": 13
        }
      ]
    },
    {
      "cell_type": "code",
      "metadata": {
        "id": "D7njXTdhjL3g"
      },
      "source": [
        "import scipy.cluster.hierarchy as sch \n",
        "from sklearn.cluster import AgglomerativeClustering"
      ],
      "execution_count": 14,
      "outputs": []
    },
    {
      "cell_type": "code",
      "metadata": {
        "colab": {
          "base_uri": "https://localhost:8080/",
          "height": 265
        },
        "id": "dls9ufqznRKU",
        "outputId": "83a5e549-1c14-452c-8ba1-a9bee0a9824e"
      },
      "source": [
        "\n",
        "dendo = sch.dendrogram(sch.linkage(pca_values,method=\"average\"))"
      ],
      "execution_count": 15,
      "outputs": [
        {
          "output_type": "display_data",
          "data": {
            "image/png": "[encoded data removed]",
            "text/plain": [
              "<Figure size 432x288 with 1 Axes>"
            ]
          },
          "metadata": {
            "needs_background": "light"
          }
        }
      ]
    },
    {
      "cell_type": "code",
      "metadata": {
        "id": "3k_aF3-hnaEj"
      },
      "source": [
        "from sklearn.cluster import KMeans"
      ],
      "execution_count": 16,
      "outputs": []
    },
    {
      "cell_type": "code",
      "metadata": {
        "colab": {
          "base_uri": "https://localhost:8080/"
        },
        "id": "Mhdbd-yrRVvY",
        "outputId": "705f57ff-6232-4868-fa29-dbd41b95a70f"
      },
      "source": [
        "pca_values"
      ],
      "execution_count": 19,
      "outputs": [
        {
          "output_type": "execute_result",
          "data": {
            "text/plain": [
              "array([[-3.52293390e+00, -1.45309844e+00, -1.64795488e-01],\n",
              "       [-2.52885806e+00,  3.30019252e-01, -2.02670665e+00],\n",
              "       [-2.78502898e+00, -1.03693595e+00,  9.83237703e-01],\n",
              "       [-3.92258841e+00, -2.76821026e+00, -1.74968168e-01],\n",
              "       [-1.40751111e+00, -8.67773087e-01,  2.02582949e+00],\n",
              "       [-3.28812981e+00, -2.13017513e+00, -6.28992339e-01],\n",
              "       [-2.75057754e+00, -1.17916999e+00, -9.77337471e-01],\n",
              "       [-2.39286652e+00, -1.61128232e+00,  1.45729462e-01],\n",
              "       [-2.79525633e+00, -9.23179517e-01, -1.77092548e+00],\n",
              "       [-3.00559666e+00, -7.96284169e-01, -9.83741629e-01],\n",
              "       [-3.67868855e+00, -1.31252342e+00, -4.21854170e-01],\n",
              "       [-2.10963477e+00, -6.12981986e-01, -1.19156995e+00],\n",
              "       [-2.43845636e+00, -6.78523310e-01, -8.65513701e-01],\n",
              "       [-3.67349453e+00, -1.14012136e+00, -1.20376870e+00],\n",
              "       [-4.44157575e+00, -2.11031917e+00, -1.26245041e+00],\n",
              "       [-2.60892387e+00, -1.66641801e+00,  2.17632760e-01],\n",
              "       [-2.47542846e+00, -2.33089672e+00,  8.31602071e-01],\n",
              "       [-2.22623243e+00, -1.63359016e+00,  7.94557947e-01],\n",
              "       [-3.74226929e+00, -2.52840527e+00, -4.84832351e-01],\n",
              "       [-2.39441150e+00, -1.06452946e+00, -1.64711761e-01],\n",
              "       [-3.33656895e+00, -7.96012794e-01, -3.63852323e-01],\n",
              "       [-1.48140399e+00, -2.40085474e-01,  9.36230971e-01],\n",
              "       [-2.82806867e+00,  8.68575524e-02, -3.11966722e-01],\n",
              "       [-2.00771405e+00,  5.15616487e-01,  1.43253973e-01],\n",
              "       [-2.11463604e+00,  3.15920569e-01,  8.89723442e-01],\n",
              "       [-1.39753751e+00, -9.38215285e-01,  3.81984245e+00],\n",
              "       [-2.13348803e+00, -6.87102046e-01, -8.74580629e-02],\n",
              "       [-1.62970383e+00,  9.11840303e-02, -1.38781727e+00],\n",
              "       [-2.50760753e+00, -6.92749833e-01,  1.39417153e+00],\n",
              "       [-2.55948318e+00, -1.95472900e-01, -1.09267935e+00],\n",
              "       [-2.77244452e+00, -1.24635279e+00,  1.38625548e+00],\n",
              "       [-2.93513374e+00, -1.47827883e+00, -3.31852675e-01],\n",
              "       [-1.99124842e+00, -5.32520145e-02, -1.67814766e-01],\n",
              "       [-2.24570987e+00, -1.63466910e+00,  1.17138376e+00],\n",
              "       [-1.78698628e+00, -6.97480386e-01,  4.78958711e-01],\n",
              "       [-2.22763867e+00, -1.79288919e-01,  4.50723842e-01],\n",
              "       [-1.76802847e+00, -6.57872308e-01,  4.57519616e-01],\n",
              "       [-1.52317798e+00, -1.12225053e-01, -4.01116946e-02],\n",
              "       [-1.87236494e+00,  7.69305759e-01, -1.42681925e+00],\n",
              "       [-2.79711434e+00, -1.80880887e+00, -3.42657071e-01],\n",
              "       [-2.84093569e+00, -7.86161567e-01, -1.17781870e-01],\n",
              "       [-1.10557210e+00, -1.65884925e-01, -7.84568985e-01],\n",
              "       [-3.30689482e+00, -1.16395547e+00, -3.12199951e-01],\n",
              "       [-9.04798423e-01, -3.26072432e-01, -2.02584244e-01],\n",
              "       [-2.39683569e+00,  6.69059447e-02, -6.55487425e-01],\n",
              "       [-1.53781235e+00, -1.77507765e+00,  2.76685888e-02],\n",
              "       [-2.99121644e+00, -1.19762255e+00, -5.39465841e-01],\n",
              "       [-3.05931631e+00, -6.53821958e-01, -1.15475795e+00],\n",
              "       [-2.31877146e+00, -1.25023668e+00, -5.72980142e-02],\n",
              "       [-2.95947229e+00, -1.75860365e+00, -6.42655624e-01],\n",
              "       [-3.41218130e+00, -1.76915806e-01, -1.97228204e+00],\n",
              "       [-3.11637827e+00, -7.52108734e-01,  4.99813751e-03],\n",
              "       [-3.70021113e+00, -1.62309187e+00, -5.19868451e-01],\n",
              "       [-2.53754828e+00, -1.87852793e+00,  3.39182163e-01],\n",
              "       [-2.44478924e+00, -1.02071516e+00, -9.57570940e-01],\n",
              "       [-2.72281451e+00, -1.33524369e+00,  5.14188852e-01],\n",
              "       [-2.98531677e+00, -1.44363759e+00, -6.11793476e-01],\n",
              "       [-2.48814690e+00, -1.21549250e+00,  2.61493332e-01],\n",
              "       [-3.35128665e+00, -1.74060283e+00, -2.84735130e-01],\n",
              "       [ 8.74925041e-01,  3.07772383e+00, -4.58564619e+00],\n",
              "       [ 1.41466076e+00,  1.38995420e+00, -8.76470824e-01],\n",
              "       [ 1.71387916e+00,  8.38856075e-01, -1.60707177e+00],\n",
              "       [-1.22968607e-02,  1.26269589e+00, -1.78460521e+00],\n",
              "       [-1.83310122e+00,  1.91338608e+00, -5.30878166e-03],\n",
              "       [ 5.74535949e-01,  1.91115097e+00,  6.78679017e-01],\n",
              "       [-7.91471156e-01,  7.58725519e-01,  5.74195746e-01],\n",
              "       [-2.02003148e+00,  1.87213142e+00, -2.02970053e+00],\n",
              "       [-1.43280980e-01,  2.42575691e+00, -1.06951469e+00],\n",
              "       [ 7.51507665e-01,  2.25209017e-01, -7.08153727e-01],\n",
              "       [-1.74032573e+00,  1.39100815e+00, -1.23560112e+00],\n",
              "       [ 1.47630041e+00,  8.92248586e-01, -6.29942735e-01],\n",
              "       [-1.49197779e+00,  9.47927081e-01,  1.95383697e+00],\n",
              "       [ 6.93966859e-01,  1.06686332e+00,  7.98642383e-02],\n",
              "       [-2.29945716e+00, -2.74358507e-01,  3.37681721e+00],\n",
              "       [-1.63413138e+00,  1.27738980e+00,  4.60188129e-01],\n",
              "       [ 8.28999321e-01,  2.44770579e+00, -1.56370418e+00],\n",
              "       [-3.00431755e-01,  2.15106456e+00, -2.44873945e+00],\n",
              "       [ 1.36117820e+00,  1.39034627e+00, -2.28302697e-01],\n",
              "       [-1.09604852e+00,  7.62642821e-01, -1.18237277e+00],\n",
              "       [-3.19219739e-01,  1.02477043e+00,  1.79482091e+00],\n",
              "       [-6.71257572e-01,  3.37052496e+00, -3.56702471e-01],\n",
              "       [-9.24110908e-01,  1.44510662e+00, -3.62167941e-01],\n",
              "       [ 4.67492044e-01,  2.38376557e+00,  1.33514108e+00],\n",
              "       [ 2.35241675e+00,  1.00139963e-01,  4.72254334e-01],\n",
              "       [-7.18223250e-01,  1.46811394e+00,  6.11344419e-01],\n",
              "       [-6.98296042e-01,  2.02223417e+00, -2.54062359e-01],\n",
              "       [ 7.64574393e-01,  2.23750414e+00,  7.72269731e-01],\n",
              "       [ 5.28249229e-01,  2.37569723e+00,  2.30704770e+00],\n",
              "       [ 1.03785507e+00,  1.80786799e+00,  9.58261132e-01],\n",
              "       [ 5.21424250e-01,  2.66038386e+00,  8.48509316e-01],\n",
              "       [ 1.25335859e+00,  2.12475639e+00, -4.88018728e-02],\n",
              "       [ 1.46070926e+00,  1.85969940e+00,  7.79936252e-01],\n",
              "       [ 1.79124629e+00,  1.56916323e+00, -9.08620809e-02],\n",
              "       [-6.53304282e-01,  2.30839297e+00,  1.15558436e-01],\n",
              "       [-8.36145100e-01,  2.21754888e+00,  1.43652590e-01],\n",
              "       [-2.26060732e+00, -1.84286370e-01,  7.91707831e-01],\n",
              "       [ 5.55472828e-01,  3.70127327e-01,  1.30923904e+00],\n",
              "       [-9.14996505e-01,  2.55963934e+00, -1.08537095e+00],\n",
              "       [-2.02098347e+00,  1.42022041e+00, -2.28051484e-01],\n",
              "       [-1.26542677e+00,  2.15848251e+00,  7.50129033e-01],\n",
              "       [-7.01432286e-01,  2.37221592e+00, -1.56724534e+00],\n",
              "       [ 5.30869785e-01,  2.29535505e+00, -1.49917094e+00],\n",
              "       [ 1.76156718e-01,  1.16479003e+00,  1.00376103e+00],\n",
              "       [ 6.42741969e-01,  2.68228953e+00, -7.65006369e-01],\n",
              "       [-3.37706143e-01,  2.09639668e+00, -4.71487650e-01],\n",
              "       [ 1.63721155e+00,  1.72636425e+00,  9.45499540e-01],\n",
              "       [ 3.58772642e-01,  2.17081862e+00, -4.81516548e-01],\n",
              "       [ 1.51311874e+00,  1.36335628e+00,  2.86009689e-01],\n",
              "       [-3.00962570e-02,  2.30450774e+00, -4.62917472e-01],\n",
              "       [-1.40940236e+00,  1.45311158e+00,  1.78122564e+00],\n",
              "       [-1.21824444e+00,  1.40819282e+00,  1.41869305e-01],\n",
              "       [ 2.88314619e-01,  1.93122641e+00,  7.87556331e-02],\n",
              "       [ 1.19609762e+00,  7.70442623e-01,  1.99805177e+00],\n",
              "       [ 4.51618189e-01,  2.27100706e+00,  1.06117891e+00],\n",
              "       [ 4.71838856e-01,  1.94138119e+00,  1.32347951e+00],\n",
              "       [-4.23399090e-01,  3.86899361e+00,  1.34460234e+00],\n",
              "       [ 2.64376527e-01,  2.82191608e+00, -3.02473757e-01],\n",
              "       [ 1.37458466e-01,  1.92845353e+00,  6.90492491e-01],\n",
              "       [ 2.25047663e+00,  1.26932529e+00, -1.90489729e+00],\n",
              "       [ 5.30744984e-01,  2.22441680e+00, -3.56421002e-01],\n",
              "       [-6.41287353e-01,  1.40431272e+00,  1.12630356e+00],\n",
              "       [-1.18436691e+00, -2.60957397e-01,  5.34669930e+00],\n",
              "       [ 1.10694195e+00,  6.69497002e-01,  3.00946264e+00],\n",
              "       [ 4.58647944e-01,  6.19888485e-01,  4.83469394e-01],\n",
              "       [-8.46107223e-01,  1.43910880e+00,  1.48276882e+00],\n",
              "       [ 1.16536718e-01,  2.10990355e+00,  4.34953692e-01],\n",
              "       [ 7.08670000e-03,  1.26551112e+00,  6.88045285e-01],\n",
              "       [ 1.49530863e+00,  1.21567945e+00,  3.36006477e+00],\n",
              "       [ 4.78601694e-01,  1.94027835e+00,  1.29653977e+00],\n",
              "       [ 1.66414462e+00,  1.15919147e+00,  7.81438229e-01],\n",
              "       [ 1.77894554e+00, -1.72314762e-01, -1.17886945e+00],\n",
              "       [ 2.74191892e+00, -3.70857245e-01, -7.23641101e-01],\n",
              "       [ 3.25429697e+00, -2.57563459e-01, -1.67783428e-01],\n",
              "       [ 2.53036635e+00, -3.65988657e-01, -4.52793591e-01],\n",
              "       [ 2.71302437e+00,  4.63874135e-01, -1.10162252e+00],\n",
              "       [ 3.34898858e+00, -3.45562159e-01, -1.09990369e+00],\n",
              "       [ 4.11716696e+00, -1.41973079e-01,  2.20219652e-01],\n",
              "       [ 4.14412844e+00, -6.47213236e-01,  1.71069802e+00],\n",
              "       [ 3.36592550e+00, -3.40410644e-01, -1.02784757e+00],\n",
              "       [ 2.71267678e+00, -2.87464382e-01,  1.24156157e+00],\n",
              "       [ 3.07164523e+00, -2.79805941e-01,  6.08807930e-01],\n",
              "       [ 2.62614546e+00, -3.68232871e-01, -9.71981338e-01],\n",
              "       [ 3.26039672e+00, -4.81090804e-01,  9.45869411e-01],\n",
              "       [ 2.70404699e+00, -4.77459848e-01, -2.53362189e-01],\n",
              "       [ 2.59084775e+00, -1.15749987e+00, -1.24462312e+00],\n",
              "       [ 2.95401110e+00, -5.57851499e-01, -8.56141264e-01],\n",
              "       [ 4.45995006e+00, -6.35479008e-01, -1.45991022e+00],\n",
              "       [ 3.82924957e+00, -1.26232962e+00, -1.11849762e-01],\n",
              "       [ 3.13365001e+00, -1.56464614e+00, -4.72735778e-01],\n",
              "       [ 3.23471410e+00, -2.03532443e+00, -4.95850787e-01],\n",
              "       [ 2.71256472e+00, -2.35387960e+00,  4.38394136e-01],\n",
              "       [ 2.93094044e+00, -2.04198353e+00, -3.11553350e-01],\n",
              "       [ 2.25057425e+00, -1.52795614e+00,  1.36375981e+00],\n",
              "       [ 3.09752033e+00, -2.13348176e+00, -9.64702506e-01],\n",
              "       [ 3.07705567e+00, -4.04790975e-01, -1.19032620e+00],\n",
              "       [ 3.85615824e+00, -1.79208943e+00, -9.50222792e-02],\n",
              "       [ 3.20838842e+00, -1.91882788e+00, -7.82626281e-01],\n",
              "       [ 3.65849417e+00, -1.30258082e+00,  1.60108960e+00],\n",
              "       [ 1.55298183e+00, -3.51909311e+00,  1.16159677e+00],\n",
              "       [ 2.05828389e+00, -2.40754610e+00,  5.49571767e-01],\n",
              "       [ 3.43854934e+00, -7.30543243e-01, -9.14691325e-02],\n",
              "       [ 2.58448815e+00, -1.17132839e+00, -1.01780000e-01],\n",
              "       [ 3.14445722e+00, -5.49035841e-01,  8.03473957e-01],\n",
              "       [ 2.92529398e+00, -6.92656844e-01, -8.85187512e-01],\n",
              "       [ 3.26182677e+00, -1.54859057e+00, -9.83800479e-01],\n",
              "       [ 3.77758717e+00, -8.72311546e-01, -4.67133500e-01],\n",
              "       [ 2.77463925e+00, -2.58870465e+00,  4.28405575e-01],\n",
              "       [ 3.24261618e+00, -1.26784789e+00, -1.21371523e+00],\n",
              "       [ 2.56374375e+00, -2.07490927e+00,  7.64076543e-01],\n",
              "       [ 2.74872948e+00, -2.58508204e+00,  1.41826706e+00],\n",
              "       [ 3.49119620e+00,  2.59460201e-01, -8.47741922e-01],\n",
              "       [ 3.92913440e+00, -8.37386028e-01, -1.34034780e+00],\n",
              "       [ 2.81529547e+00, -2.18933614e+00, -9.18927443e-01],\n",
              "       [ 3.62799620e+00, -2.20661701e+00, -3.43667668e-01],\n",
              "       [ 2.94272922e+00, -1.75226320e+00,  2.07479744e-01],\n",
              "       [ 3.02727243e+00, -2.75604024e+00, -9.40803036e-01],\n",
              "       [ 2.75522166e+00, -2.29378408e+00, -5.50473677e-01],\n",
              "       [ 3.49633565e+00, -2.76060799e+00,  1.01315115e+00]])"
            ]
          },
          "metadata": {},
          "execution_count": 19
        }
      ]
    },
    {
      "cell_type": "code",
      "metadata": {
        "id": "IoC8bXDHRzWH"
      },
      "source": [
        "wcss = []  # within cluster sum of squares - which is nothig but the inertia which is the avg dist within the cluster which is built every time and stored in the list we made here\n",
        "for i in range (1,11):  \n",
        "  kmeans = KMeans(n_clusters=i,random_state=0) #random_state is that randomly the data has to be partitioned but we put 0 here as we want to reproduce the vales again\n",
        "  kmeans.fit(pca_values)\n",
        "  wcss.append(kmeans.inertia_) #this basically means if k=2 and the value obtained is say 120 then we will apend it into the wcss list till 10"
      ],
      "execution_count": 20,
      "outputs": []
    },
    {
      "cell_type": "code",
      "metadata": {
        "colab": {
          "base_uri": "https://localhost:8080/",
          "height": 295
        },
        "id": "vabGn3dDShg8",
        "outputId": "024fea3b-bfc9-4562-d7a9-fa33c5be8806"
      },
      "source": [
        "plt.plot(range(1,11),wcss)\n",
        "plt.title(\"Elbow plot\")\n",
        "plt.xlabel(\"No. of clusters\")\n",
        "plt.ylabel(\"WCSS\")\n",
        "plt.show()"
      ],
      "execution_count": 21,
      "outputs": [
        {
          "output_type": "display_data",
          "data": {
            "image/png": "[encoded data removed]",
            "text/plain": [
              "<Figure size 432x288 with 1 Axes>"
            ]
          },
          "metadata": {
            "needs_background": "light"
          }
        }
      ]
    },
    {
      "cell_type": "code",
      "metadata": {
        "colab": {
          "base_uri": "https://localhost:8080/"
        },
        "id": "_tJPyKwKSlgx",
        "outputId": "5d53c645-00e1-4ffe-e036-51885b730af2"
      },
      "source": [
        "cluster_new = KMeans(4,random_state=42) # you can use any number but must be constant throughout\n",
        "cluster_new.fit(pca_values)"
      ],
      "execution_count": 22,
      "outputs": [
        {
          "output_type": "execute_result",
          "data": {
            "text/plain": [
              "KMeans(n_clusters=4, random_state=42)"
            ]
          },
          "metadata": {},
          "execution_count": 22
        }
      ]
    },
    {
      "cell_type": "code",
      "metadata": {
        "colab": {
          "base_uri": "https://localhost:8080/"
        },
        "id": "_0bIf-rMSvGf",
        "outputId": "4c6d76e6-81a6-4522-ecf0-74a12ca6a273"
      },
      "source": [
        "cluster_new.labels_"
      ],
      "execution_count": 23,
      "outputs": [
        {
          "output_type": "execute_result",
          "data": {
            "text/plain": [
              "array([1, 1, 1, 1, 3, 1, 1, 1, 1, 1, 1, 1, 1, 1, 1, 1, 1, 1, 1, 1, 1, 1,\n",
              "       1, 1, 1, 3, 1, 1, 1, 1, 1, 1, 1, 1, 1, 1, 1, 1, 1, 1, 1, 1, 1, 1,\n",
              "       1, 1, 1, 1, 1, 1, 1, 1, 1, 1, 1, 1, 1, 1, 1, 2, 2, 2, 2, 2, 2, 2,\n",
              "       2, 2, 2, 2, 2, 3, 2, 3, 2, 2, 2, 2, 2, 3, 2, 2, 2, 0, 2, 2, 2, 3,\n",
              "       2, 2, 2, 2, 2, 2, 2, 1, 3, 2, 2, 2, 2, 2, 2, 2, 2, 2, 2, 2, 2, 3,\n",
              "       2, 2, 3, 2, 2, 2, 2, 2, 2, 2, 3, 3, 3, 2, 3, 2, 2, 3, 2, 2, 0, 0,\n",
              "       0, 0, 0, 0, 0, 0, 0, 0, 0, 0, 0, 0, 0, 0, 0, 0, 0, 0, 0, 0, 0, 0,\n",
              "       0, 0, 0, 0, 0, 0, 0, 0, 0, 0, 0, 0, 0, 0, 0, 0, 0, 0, 0, 0, 0, 0,\n",
              "       0, 0], dtype=int32)"
            ]
          },
          "metadata": {},
          "execution_count": 23
        }
      ]
    },
    {
      "cell_type": "code",
      "metadata": {
        "id": "UA_1V19ySzPs"
      },
      "source": [
        "wine[\"clusterid_name\"] = cluster_new.labels_"
      ],
      "execution_count": 24,
      "outputs": []
    },
    {
      "cell_type": "code",
      "metadata": {
        "colab": {
          "base_uri": "https://localhost:8080/",
          "height": 423
        },
        "id": "ooRcYpgSS-js",
        "outputId": "3b6026f5-e335-41ae-f088-7e779cb7dc40"
      },
      "source": [
        "wine"
      ],
      "execution_count": 25,
      "outputs": [
        {
          "output_type": "execute_result",
          "data": {
            "text/html": [
              "<div>\n",
              "<style scoped>\n",
              "    .dataframe tbody tr th:only-of-type {\n",
              "        vertical-align: middle;\n",
              "    }\n",
              "\n",
              "    .dataframe tbody tr th {\n",
              "        vertical-align: top;\n",
              "    }\n",
              "\n",
              "    .dataframe thead th {\n",
              "        text-align: right;\n",
              "    }\n",
              "</style>\n",
              "<table border=\"1\" class=\"dataframe\">\n",
              "  <thead>\n",
              "    <tr style=\"text-align: right;\">\n",
              "      <th></th>\n",
              "      <th>Type</th>\n",
              "      <th>Alcohol</th>\n",
              "      <th>Malic</th>\n",
              "      <th>Ash</th>\n",
              "      <th>Alcalinity</th>\n",
              "      <th>Magnesium</th>\n",
              "      <th>Phenols</th>\n",
              "      <th>Flavanoids</th>\n",
              "      <th>Nonflavanoids</th>\n",
              "      <th>Proanthocyanins</th>\n",
              "      <th>Color</th>\n",
              "      <th>Hue</th>\n",
              "      <th>Dilution</th>\n",
              "      <th>Proline</th>\n",
              "      <th>clusterid_name</th>\n",
              "    </tr>\n",
              "  </thead>\n",
              "  <tbody>\n",
              "    <tr>\n",
              "      <th>0</th>\n",
              "      <td>1</td>\n",
              "      <td>14.23</td>\n",
              "      <td>1.71</td>\n",
              "      <td>2.43</td>\n",
              "      <td>15.6</td>\n",
              "      <td>127</td>\n",
              "      <td>2.80</td>\n",
              "      <td>3.06</td>\n",
              "      <td>0.28</td>\n",
              "      <td>2.29</td>\n",
              "      <td>5.64</td>\n",
              "      <td>1.04</td>\n",
              "      <td>3.92</td>\n",
              "      <td>1065</td>\n",
              "      <td>1</td>\n",
              "    </tr>\n",
              "    <tr>\n",
              "      <th>1</th>\n",
              "      <td>1</td>\n",
              "      <td>13.20</td>\n",
              "      <td>1.78</td>\n",
              "      <td>2.14</td>\n",
              "      <td>11.2</td>\n",
              "      <td>100</td>\n",
              "      <td>2.65</td>\n",
              "      <td>2.76</td>\n",
              "      <td>0.26</td>\n",
              "      <td>1.28</td>\n",
              "      <td>4.38</td>\n",
              "      <td>1.05</td>\n",
              "      <td>3.40</td>\n",
              "      <td>1050</td>\n",
              "      <td>1</td>\n",
              "    </tr>\n",
              "    <tr>\n",
              "      <th>2</th>\n",
              "      <td>1</td>\n",
              "      <td>13.16</td>\n",
              "      <td>2.36</td>\n",
              "      <td>2.67</td>\n",
              "      <td>18.6</td>\n",
              "      <td>101</td>\n",
              "      <td>2.80</td>\n",
              "      <td>3.24</td>\n",
              "      <td>0.30</td>\n",
              "      <td>2.81</td>\n",
              "      <td>5.68</td>\n",
              "      <td>1.03</td>\n",
              "      <td>3.17</td>\n",
              "      <td>1185</td>\n",
              "      <td>1</td>\n",
              "    </tr>\n",
              "    <tr>\n",
              "      <th>3</th>\n",
              "      <td>1</td>\n",
              "      <td>14.37</td>\n",
              "      <td>1.95</td>\n",
              "      <td>2.50</td>\n",
              "      <td>16.8</td>\n",
              "      <td>113</td>\n",
              "      <td>3.85</td>\n",
              "      <td>3.49</td>\n",
              "      <td>0.24</td>\n",
              "      <td>2.18</td>\n",
              "      <td>7.80</td>\n",
              "      <td>0.86</td>\n",
              "      <td>3.45</td>\n",
              "      <td>1480</td>\n",
              "      <td>1</td>\n",
              "    </tr>\n",
              "    <tr>\n",
              "      <th>4</th>\n",
              "      <td>1</td>\n",
              "      <td>13.24</td>\n",
              "      <td>2.59</td>\n",
              "      <td>2.87</td>\n",
              "      <td>21.0</td>\n",
              "      <td>118</td>\n",
              "      <td>2.80</td>\n",
              "      <td>2.69</td>\n",
              "      <td>0.39</td>\n",
              "      <td>1.82</td>\n",
              "      <td>4.32</td>\n",
              "      <td>1.04</td>\n",
              "      <td>2.93</td>\n",
              "      <td>735</td>\n",
              "      <td>3</td>\n",
              "    </tr>\n",
              "    <tr>\n",
              "      <th>...</th>\n",
              "      <td>...</td>\n",
              "      <td>...</td>\n",
              "      <td>...</td>\n",
              "      <td>...</td>\n",
              "      <td>...</td>\n",
              "      <td>...</td>\n",
              "      <td>...</td>\n",
              "      <td>...</td>\n",
              "      <td>...</td>\n",
              "      <td>...</td>\n",
              "      <td>...</td>\n",
              "      <td>...</td>\n",
              "      <td>...</td>\n",
              "      <td>...</td>\n",
              "      <td>...</td>\n",
              "    </tr>\n",
              "    <tr>\n",
              "      <th>173</th>\n",
              "      <td>3</td>\n",
              "      <td>13.71</td>\n",
              "      <td>5.65</td>\n",
              "      <td>2.45</td>\n",
              "      <td>20.5</td>\n",
              "      <td>95</td>\n",
              "      <td>1.68</td>\n",
              "      <td>0.61</td>\n",
              "      <td>0.52</td>\n",
              "      <td>1.06</td>\n",
              "      <td>7.70</td>\n",
              "      <td>0.64</td>\n",
              "      <td>1.74</td>\n",
              "      <td>740</td>\n",
              "      <td>0</td>\n",
              "    </tr>\n",
              "    <tr>\n",
              "      <th>174</th>\n",
              "      <td>3</td>\n",
              "      <td>13.40</td>\n",
              "      <td>3.91</td>\n",
              "      <td>2.48</td>\n",
              "      <td>23.0</td>\n",
              "      <td>102</td>\n",
              "      <td>1.80</td>\n",
              "      <td>0.75</td>\n",
              "      <td>0.43</td>\n",
              "      <td>1.41</td>\n",
              "      <td>7.30</td>\n",
              "      <td>0.70</td>\n",
              "      <td>1.56</td>\n",
              "      <td>750</td>\n",
              "      <td>0</td>\n",
              "    </tr>\n",
              "    <tr>\n",
              "      <th>175</th>\n",
              "      <td>3</td>\n",
              "      <td>13.27</td>\n",
              "      <td>4.28</td>\n",
              "      <td>2.26</td>\n",
              "      <td>20.0</td>\n",
              "      <td>120</td>\n",
              "      <td>1.59</td>\n",
              "      <td>0.69</td>\n",
              "      <td>0.43</td>\n",
              "      <td>1.35</td>\n",
              "      <td>10.20</td>\n",
              "      <td>0.59</td>\n",
              "      <td>1.56</td>\n",
              "      <td>835</td>\n",
              "      <td>0</td>\n",
              "    </tr>\n",
              "    <tr>\n",
              "      <th>176</th>\n",
              "      <td>3</td>\n",
              "      <td>13.17</td>\n",
              "      <td>2.59</td>\n",
              "      <td>2.37</td>\n",
              "      <td>20.0</td>\n",
              "      <td>120</td>\n",
              "      <td>1.65</td>\n",
              "      <td>0.68</td>\n",
              "      <td>0.53</td>\n",
              "      <td>1.46</td>\n",
              "      <td>9.30</td>\n",
              "      <td>0.60</td>\n",
              "      <td>1.62</td>\n",
              "      <td>840</td>\n",
              "      <td>0</td>\n",
              "    </tr>\n",
              "    <tr>\n",
              "      <th>177</th>\n",
              "      <td>3</td>\n",
              "      <td>14.13</td>\n",
              "      <td>4.10</td>\n",
              "      <td>2.74</td>\n",
              "      <td>24.5</td>\n",
              "      <td>96</td>\n",
              "      <td>2.05</td>\n",
              "      <td>0.76</td>\n",
              "      <td>0.56</td>\n",
              "      <td>1.35</td>\n",
              "      <td>9.20</td>\n",
              "      <td>0.61</td>\n",
              "      <td>1.60</td>\n",
              "      <td>560</td>\n",
              "      <td>0</td>\n",
              "    </tr>\n",
              "  </tbody>\n",
              "</table>\n",
              "<p>178 rows × 15 columns</p>\n",
              "</div>"
            ],
            "text/plain": [
              "     Type  Alcohol  Malic   Ash  ...   Hue  Dilution  Proline  clusterid_name\n",
              "0       1    14.23   1.71  2.43  ...  1.04      3.92     1065               1\n",
              "1       1    13.20   1.78  2.14  ...  1.05      3.40     1050               1\n",
              "2       1    13.16   2.36  2.67  ...  1.03      3.17     1185               1\n",
              "3       1    14.37   1.95  2.50  ...  0.86      3.45     1480               1\n",
              "4       1    13.24   2.59  2.87  ...  1.04      2.93      735               3\n",
              "..    ...      ...    ...   ...  ...   ...       ...      ...             ...\n",
              "173     3    13.71   5.65  2.45  ...  0.64      1.74      740               0\n",
              "174     3    13.40   3.91  2.48  ...  0.70      1.56      750               0\n",
              "175     3    13.27   4.28  2.26  ...  0.59      1.56      835               0\n",
              "176     3    13.17   2.59  2.37  ...  0.60      1.62      840               0\n",
              "177     3    14.13   4.10  2.74  ...  0.61      1.60      560               0\n",
              "\n",
              "[178 rows x 15 columns]"
            ]
          },
          "metadata": {},
          "execution_count": 25
        }
      ]
    },
    {
      "cell_type": "code",
      "metadata": {
        "colab": {
          "base_uri": "https://localhost:8080/",
          "height": 206
        },
        "id": "7y14goORS_j4",
        "outputId": "c116d190-979f-4265-ae24-3b5b5053900c"
      },
      "source": [
        "wine.groupby([\"clusterid_name\"]).agg([\"mean\"]).reset_index()"
      ],
      "execution_count": 26,
      "outputs": [
        {
          "output_type": "execute_result",
          "data": {
            "text/html": [
              "<div>\n",
              "<style scoped>\n",
              "    .dataframe tbody tr th:only-of-type {\n",
              "        vertical-align: middle;\n",
              "    }\n",
              "\n",
              "    .dataframe tbody tr th {\n",
              "        vertical-align: top;\n",
              "    }\n",
              "\n",
              "    .dataframe thead tr th {\n",
              "        text-align: left;\n",
              "    }\n",
              "</style>\n",
              "<table border=\"1\" class=\"dataframe\">\n",
              "  <thead>\n",
              "    <tr>\n",
              "      <th></th>\n",
              "      <th>clusterid_name</th>\n",
              "      <th>Type</th>\n",
              "      <th>Alcohol</th>\n",
              "      <th>Malic</th>\n",
              "      <th>Ash</th>\n",
              "      <th>Alcalinity</th>\n",
              "      <th>Magnesium</th>\n",
              "      <th>Phenols</th>\n",
              "      <th>Flavanoids</th>\n",
              "      <th>Nonflavanoids</th>\n",
              "      <th>Proanthocyanins</th>\n",
              "      <th>Color</th>\n",
              "      <th>Hue</th>\n",
              "      <th>Dilution</th>\n",
              "      <th>Proline</th>\n",
              "    </tr>\n",
              "    <tr>\n",
              "      <th></th>\n",
              "      <th></th>\n",
              "      <th>mean</th>\n",
              "      <th>mean</th>\n",
              "      <th>mean</th>\n",
              "      <th>mean</th>\n",
              "      <th>mean</th>\n",
              "      <th>mean</th>\n",
              "      <th>mean</th>\n",
              "      <th>mean</th>\n",
              "      <th>mean</th>\n",
              "      <th>mean</th>\n",
              "      <th>mean</th>\n",
              "      <th>mean</th>\n",
              "      <th>mean</th>\n",
              "      <th>mean</th>\n",
              "    </tr>\n",
              "  </thead>\n",
              "  <tbody>\n",
              "    <tr>\n",
              "      <th>0</th>\n",
              "      <td>0</td>\n",
              "      <td>2.979592</td>\n",
              "      <td>13.151633</td>\n",
              "      <td>3.344490</td>\n",
              "      <td>2.434694</td>\n",
              "      <td>21.438776</td>\n",
              "      <td>99.020408</td>\n",
              "      <td>1.678163</td>\n",
              "      <td>0.797959</td>\n",
              "      <td>0.450816</td>\n",
              "      <td>1.163061</td>\n",
              "      <td>7.343265</td>\n",
              "      <td>0.685918</td>\n",
              "      <td>1.690204</td>\n",
              "      <td>627.551020</td>\n",
              "    </tr>\n",
              "    <tr>\n",
              "      <th>1</th>\n",
              "      <td>1</td>\n",
              "      <td>1.017241</td>\n",
              "      <td>13.743448</td>\n",
              "      <td>1.991552</td>\n",
              "      <td>2.430862</td>\n",
              "      <td>16.865517</td>\n",
              "      <td>106.793103</td>\n",
              "      <td>2.838621</td>\n",
              "      <td>2.980345</td>\n",
              "      <td>0.285690</td>\n",
              "      <td>1.924138</td>\n",
              "      <td>5.532241</td>\n",
              "      <td>1.062931</td>\n",
              "      <td>3.151897</td>\n",
              "      <td>1124.120690</td>\n",
              "    </tr>\n",
              "    <tr>\n",
              "      <th>2</th>\n",
              "      <td>2</td>\n",
              "      <td>2.000000</td>\n",
              "      <td>12.294737</td>\n",
              "      <td>1.783333</td>\n",
              "      <td>2.151930</td>\n",
              "      <td>19.392982</td>\n",
              "      <td>91.754386</td>\n",
              "      <td>2.208246</td>\n",
              "      <td>1.978246</td>\n",
              "      <td>0.361404</td>\n",
              "      <td>1.553509</td>\n",
              "      <td>3.048596</td>\n",
              "      <td>1.057298</td>\n",
              "      <td>2.733684</td>\n",
              "      <td>505.263158</td>\n",
              "    </tr>\n",
              "    <tr>\n",
              "      <th>3</th>\n",
              "      <td>3</td>\n",
              "      <td>1.857143</td>\n",
              "      <td>12.268571</td>\n",
              "      <td>2.487857</td>\n",
              "      <td>2.735000</td>\n",
              "      <td>24.000000</td>\n",
              "      <td>105.571429</td>\n",
              "      <td>2.556429</td>\n",
              "      <td>2.606429</td>\n",
              "      <td>0.367857</td>\n",
              "      <td>1.860000</td>\n",
              "      <td>3.277143</td>\n",
              "      <td>1.064286</td>\n",
              "      <td>3.102143</td>\n",
              "      <td>585.571429</td>\n",
              "    </tr>\n",
              "  </tbody>\n",
              "</table>\n",
              "</div>"
            ],
            "text/plain": [
              "  clusterid_name      Type    Alcohol  ...       Hue  Dilution      Proline\n",
              "                      mean       mean  ...      mean      mean         mean\n",
              "0              0  2.979592  13.151633  ...  0.685918  1.690204   627.551020\n",
              "1              1  1.017241  13.743448  ...  1.062931  3.151897  1124.120690\n",
              "2              2  2.000000  12.294737  ...  1.057298  2.733684   505.263158\n",
              "3              3  1.857143  12.268571  ...  1.064286  3.102143   585.571429\n",
              "\n",
              "[4 rows x 15 columns]"
            ]
          },
          "metadata": {},
          "execution_count": 26
        }
      ]
    },
    {
      "cell_type": "code",
      "metadata": {
        "id": "6J91Gs8ETGFW"
      },
      "source": [
        ""
      ],
      "execution_count": null,
      "outputs": []
    }
  ]
}